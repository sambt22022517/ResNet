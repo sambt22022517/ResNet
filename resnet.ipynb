{
 "cells": [
  {
   "cell_type": "code",
   "execution_count": 2,
   "metadata": {},
   "outputs": [],
   "source": [
    "import torch\n",
    "from torch import nn"
   ]
  },
  {
   "cell_type": "code",
   "execution_count": 3,
   "metadata": {},
   "outputs": [],
   "source": [
    "class Residual_Basic_Block(nn.Module):\n",
    "    def __init__(self, in_channels, out_channels):\n",
    "        super().__init__()\n",
    "        self.in_channels = in_channels\n",
    "        self.out_channels = out_channels\n",
    "\n",
    "        self.model = nn.Sequential(\n",
    "            nn.Conv2d(self.in_channels, self.out_channels, kernel_size=3, padding=1),\n",
    "            nn.BatchNorm2d(self.out_channels),\n",
    "\n",
    "            nn.Conv2d(self.out_channels, self.out_channels, kernel_size=3, padding=1),\n",
    "            nn.BatchNorm2d(self.out_channels),\n",
    "        )\n",
    "\n",
    "        if self.in_channels != self.out_channels:\n",
    "            self.downsample = nn.Sequential(\n",
    "                nn.Conv2d(self.in_channels, self.out_channels, kernel_size=1),\n",
    "                nn.BatchNorm2d(self.out_channels)\n",
    "            )\n",
    "        else:\n",
    "            self.downsample = nn.Identity()\n",
    "\n",
    "    def forward(self, X):\n",
    "        skip_connect_X = X.clone()\n",
    "        downsample_X = self.downsample(skip_connect_X)\n",
    "\n",
    "        X = self.model(X)\n",
    "\n",
    "        X = X + downsample_X\n",
    "        return X"
   ]
  },
  {
   "cell_type": "code",
   "execution_count": 4,
   "metadata": {},
   "outputs": [],
   "source": [
    "class Residual_Bottle_Neck_Block(nn.Module):\n",
    "    def __init__(self, in_channels, out_channels):\n",
    "        super().__init__()\n",
    "        self.in_channels = in_channels\n",
    "        self.out_channels = out_channels\n",
    "\n",
    "        self.model = nn.Sequential(\n",
    "            nn.Conv2d(self.in_channels, self.out_channels // 4, kernel_size=1),\n",
    "            nn.BatchNorm2d(self.out_channels // 4),\n",
    "\n",
    "            nn.Conv2d(self.out_channels // 4, self.out_channels // 4, kernel_size=3, padding=1),\n",
    "            nn.BatchNorm2d(self.out_channels // 4),\n",
    "\n",
    "            nn.Conv2d(self.out_channels // 4, self.out_channels, kernel_size=1),\n",
    "            nn.BatchNorm2d(self.out_channels),\n",
    "        )\n",
    "\n",
    "        if self.in_channels != self.out_channels:\n",
    "            self.downsample = nn.Sequential(\n",
    "                nn.Conv2d(self.in_channels, self.out_channels, kernel_size=1),\n",
    "                nn.BatchNorm2d(self.out_channels)\n",
    "            )\n",
    "        else:\n",
    "            self.downsample = nn.Identity()\n",
    "\n",
    "    def forward(self, X):\n",
    "        skip_connect_X = X.clone()\n",
    "        downsample_X = self.downsample(skip_connect_X)\n",
    "\n",
    "        X = self.model(X)\n",
    "\n",
    "        X = X + downsample_X\n",
    "        return X"
   ]
  },
  {
   "cell_type": "code",
   "execution_count": 5,
   "metadata": {},
   "outputs": [],
   "source": [
    "def make_block(block, in_channels, out_channels, num_blocks):\n",
    "    model = nn.Sequential(\n",
    "        block(in_channels, out_channels),\n",
    "        *[block(out_channels, out_channels) for _ in range(num_blocks-1)]\n",
    "    )\n",
    "    return model"
   ]
  },
  {
   "cell_type": "code",
   "execution_count": 6,
   "metadata": {},
   "outputs": [],
   "source": [
    "class ResNet(nn.Module):\n",
    "    def __init__(self, Residual_Block, in_channels, in_w, in_h, num_classes, list_num_residual_blocks, expansion_size=1):\n",
    "        super().__init__()\n",
    "        self.in_channels = in_channels\n",
    "        self.num_classes = num_classes\n",
    "        self.block = Residual_Block\n",
    "        if expansion_size < 1:\n",
    "            expansion_size = 1\n",
    "\n",
    "        self.conv1 = nn.Conv2d(self.in_channels, 64, kernel_size=7, stride=2, padding=3)\n",
    "        \n",
    "        self.maxpool2 = nn.MaxPool2d(kernel_size=3, stride=2, padding=1)\n",
    "        self.conv2_x = make_block(self.block, 64, 64*expansion_size, list_num_residual_blocks[0])\n",
    "        \n",
    "        self.maxpool3 = nn.MaxPool2d(kernel_size=3, stride=2, padding=1)\n",
    "        self.conv3_x = make_block(self.block, 64*expansion_size, 128*expansion_size, list_num_residual_blocks[1])\n",
    "        \n",
    "        self.maxpool4 = nn.MaxPool2d(kernel_size=3, stride=2, padding=1)\n",
    "        self.conv4_x = make_block(self.block, 128*expansion_size, 256*expansion_size, list_num_residual_blocks[2])\n",
    "        \n",
    "        self.maxpool5 = nn.MaxPool2d(kernel_size=3, stride=2, padding=1)\n",
    "        self.conv5_x = make_block(self.block, 256*expansion_size, 512*expansion_size, list_num_residual_blocks[3])\n",
    "\n",
    "        self.averagepool = nn.AvgPool2d(2)\n",
    "        self.fc = nn.Linear((in_w//2**6)*(in_h//2**6)*512*expansion_size, num_classes)\n",
    "    \n",
    "    def forward(self, X):\n",
    "        X = self.conv1(X)\n",
    "\n",
    "        X = self.maxpool2(X)\n",
    "        X = self.conv2_x(X)\n",
    "\n",
    "        X = self.maxpool3(X)\n",
    "        X = self.conv3_x(X)\n",
    "        \n",
    "        X = self.maxpool4(X)\n",
    "        X = self.conv4_x(X)\n",
    "        \n",
    "        X = self.maxpool5(X)\n",
    "        X = self.conv5_x(X)\n",
    "\n",
    "        X = self.averagepool(X)\n",
    "        X = torch.flatten(X, start_dim=1)\n",
    "        X = self.fc(X)\n",
    "        return X"
   ]
  },
  {
   "cell_type": "code",
   "execution_count": 7,
   "metadata": {},
   "outputs": [],
   "source": [
    "def ResNet18(in_channels, in_w, in_h, num_classes):\n",
    "    return ResNet(Residual_Basic_Block, in_channels, in_w, in_h, num_classes, [2, 2, 2, 2], expansion_size=1)\n",
    "\n",
    "def ResNet34(in_channels, in_w, in_h, num_classes):\n",
    "    return ResNet(Residual_Basic_Block, in_channels, in_w, in_h, num_classes, [3, 4, 6, 3], expansion_size=1)\n",
    "\n",
    "def ResNet50(in_channels, in_w, in_h, num_classes):\n",
    "    return ResNet(Residual_Bottle_Neck_Block, in_channels, in_w, in_h, num_classes, [3, 4, 6, 3], expansion_size=4)\n",
    "\n",
    "def ResNet101(in_channels, in_w, in_h, num_classes):\n",
    "    return ResNet(Residual_Bottle_Neck_Block, in_channels, in_w, in_h, num_classes, [3, 4, 23, 3], expansion_size=4)\n",
    "\n",
    "def ResNet152(in_channels, in_w, in_h, num_classes):\n",
    "    return ResNet(Residual_Bottle_Neck_Block, in_channels, in_w, in_h, num_classes, [3, 8, 36, 3], expansion_size=4)"
   ]
  },
  {
   "cell_type": "code",
   "execution_count": 8,
   "metadata": {},
   "outputs": [],
   "source": [
    "def test(resnet):\n",
    "    a = torch.randn(2, 3, 224, 224)\n",
    "    model = resnet(3, 224, 224, 100)\n",
    "    print('Pass' if model(a).shape == torch.Size([2, 100]) else 'Fail')"
   ]
  },
  {
   "cell_type": "code",
   "execution_count": 9,
   "metadata": {},
   "outputs": [
    {
     "name": "stdout",
     "output_type": "stream",
     "text": [
      "Pass\n",
      "Pass\n",
      "Pass\n",
      "Pass\n",
      "Pass\n"
     ]
    }
   ],
   "source": [
    "test(ResNet18)\n",
    "test(ResNet34)\n",
    "test(ResNet50)\n",
    "test(ResNet101)\n",
    "test(ResNet152)"
   ]
  }
 ],
 "metadata": {
  "kernelspec": {
   "display_name": "img-pro",
   "language": "python",
   "name": "python3"
  },
  "language_info": {
   "codemirror_mode": {
    "name": "ipython",
    "version": 3
   },
   "file_extension": ".py",
   "mimetype": "text/x-python",
   "name": "python",
   "nbconvert_exporter": "python",
   "pygments_lexer": "ipython3",
   "version": "3.11.9"
  }
 },
 "nbformat": 4,
 "nbformat_minor": 2
}
