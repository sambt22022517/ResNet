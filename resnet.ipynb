{
 "cells": [
  {
   "cell_type": "code",
   "execution_count": 100,
   "metadata": {},
   "outputs": [],
   "source": [
    "import torch\n",
    "from torch import nn"
   ]
  },
  {
   "cell_type": "code",
   "execution_count": 101,
   "metadata": {},
   "outputs": [
    {
     "name": "stdout",
     "output_type": "stream",
     "text": [
      "torch.Size([2, 64, 56, 56])\n",
      "torch.Size([2, 64, 56, 56])\n"
     ]
    }
   ],
   "source": [
    "class MyConv(nn.Module):\n",
    "    def __init__(self, in_channels, out_channels, kernel_size, padding, stride, relu=True):\n",
    "        super().__init__()\n",
    "\n",
    "        self.in_channels = in_channels\n",
    "        self.out_channels = out_channels\n",
    "        self.kernel_size = kernel_size\n",
    "        self.padding = padding\n",
    "        self.stride = stride\n",
    "        self.relu = relu\n",
    "\n",
    "        model = [\n",
    "            nn.Conv2d(self.in_channels, self.out_channels, kernel_size=self.kernel_size, padding=self.padding, stride=self.stride),\n",
    "            nn.BatchNorm2d(self.out_channels),\n",
    "        ]\n",
    "        if self.relu:\n",
    "            model.append(nn.ReLU())\n",
    "        self.model = nn.Sequential(*model)\n",
    "    \n",
    "    def forward(self, X):\n",
    "        return self.model(X)\n",
    "    \n",
    "\n",
    "def test():\n",
    "    a = torch.randn(2, 3, 112, 112)\n",
    "    net = MyConv(3, 64, 3, 1, 2)\n",
    "    net2 = MyConv(64, 64, 3, 1, 1)\n",
    "    print(net(a).shape)\n",
    "    print(net2(net(a)).shape)\n",
    "\n",
    "test()"
   ]
  },
  {
   "cell_type": "code",
   "execution_count": 102,
   "metadata": {},
   "outputs": [
    {
     "name": "stdout",
     "output_type": "stream",
     "text": [
      "torch.Size([2, 64, 56, 56])\n"
     ]
    }
   ],
   "source": [
    "class Residual_Basic_Block(nn.Module):\n",
    "    def __init__(self, in_channels, out_channels, stride):\n",
    "        super().__init__()\n",
    "        self.in_channels = in_channels\n",
    "        self.out_channels = out_channels\n",
    "        self.stride = stride\n",
    "\n",
    "        self.model = nn.Sequential(\n",
    "            MyConv(self.in_channels, self.out_channels, kernel_size=3, padding=1, stride=stride, relu=True),\n",
    "            MyConv(self.out_channels, self.out_channels, kernel_size=3, padding=1, stride=1, relu=False),\n",
    "        )\n",
    "\n",
    "        if self.in_channels != self.out_channels or stride != 1:\n",
    "            self.downsample = nn.Sequential(\n",
    "                MyConv(self.in_channels, self.out_channels, kernel_size=1, padding=0, stride=stride, relu=False),\n",
    "            )\n",
    "        else:\n",
    "            self.downsample = nn.Identity()\n",
    "\n",
    "    def forward(self, X):\n",
    "        X_skip = X\n",
    "        X_skip = self.downsample(X_skip)\n",
    "        out = self.model(X)\n",
    "        out = out + X_skip\n",
    "        return out\n",
    "    \n",
    "\n",
    "def test():\n",
    "    a = torch.randn(2, 3, 112, 112)\n",
    "    net = Residual_Basic_Block(3, 64, 2)\n",
    "    print(net(a).shape)\n",
    "\n",
    "test()\n"
   ]
  },
  {
   "cell_type": "code",
   "execution_count": 103,
   "metadata": {},
   "outputs": [
    {
     "name": "stdout",
     "output_type": "stream",
     "text": [
      "torch.Size([2, 64, 56, 56])\n"
     ]
    }
   ],
   "source": [
    "class Residual_Bottle_Neck_Block(nn.Module):\n",
    "    def __init__(self, in_channels, out_channels, stride):\n",
    "        super().__init__()\n",
    "        self.in_channels = in_channels\n",
    "        self.out_channels = out_channels\n",
    "        self.stride = stride\n",
    "\n",
    "        self.model = nn.Sequential(\n",
    "            MyConv(self.in_channels, self.out_channels // 4, kernel_size=1, padding=0, stride=stride, relu=True),\n",
    "            MyConv(self.out_channels // 4, self.out_channels // 4, kernel_size=3, padding=1, stride=1, relu=True),\n",
    "            MyConv(self.out_channels // 4, self.out_channels, kernel_size=1, padding=0, stride=1, relu=False),\n",
    "        )\n",
    "\n",
    "        if self.in_channels != self.out_channels or stride != 1:\n",
    "            self.downsample = nn.Sequential(\n",
    "                MyConv(self.in_channels, self.out_channels, kernel_size=1, padding=0, stride=stride, relu=False),\n",
    "            )\n",
    "        else:\n",
    "            self.downsample = nn.Identity()\n",
    "\n",
    "    def forward(self, X):\n",
    "        X_skip = X\n",
    "        X_skip = self.downsample(X_skip)\n",
    "        out = self.model(X)\n",
    "        out = out + X_skip\n",
    "        return out\n",
    "    \n",
    "\n",
    "def test():\n",
    "    a = torch.randn(2, 3, 112, 112)\n",
    "    net = Residual_Bottle_Neck_Block(3, 64, 2)\n",
    "    print(net(a).shape)\n",
    "\n",
    "test()"
   ]
  },
  {
   "cell_type": "code",
   "execution_count": 104,
   "metadata": {},
   "outputs": [
    {
     "name": "stdout",
     "output_type": "stream",
     "text": [
      "torch.Size([2, 64, 56, 56])\n"
     ]
    }
   ],
   "source": [
    "def make_block(block, in_channels, out_channels, num_blocks, stride):\n",
    "    model = nn.Sequential(\n",
    "        block(in_channels, out_channels, stride),\n",
    "        *[block(out_channels, out_channels, 1) for _ in range(num_blocks-1)]\n",
    "    )\n",
    "    return model\n",
    "\n",
    "\n",
    "def test():\n",
    "    a = torch.randn(2, 3, 112, 112)\n",
    "    model = make_block(Residual_Basic_Block, 3, 64*1, 2, stride=2)\n",
    "    print(model(a).shape)\n",
    "test()"
   ]
  },
  {
   "cell_type": "code",
   "execution_count": 105,
   "metadata": {},
   "outputs": [],
   "source": [
    "class ResNet(nn.Module):\n",
    "    def __init__(self, Residual_Block, in_channels, in_w, in_h, num_classes, list_num_residual_blocks, expansion_size=1):\n",
    "        super().__init__()\n",
    "        self.in_channels = in_channels\n",
    "        self.num_classes = num_classes\n",
    "        self.block = Residual_Block\n",
    "        if expansion_size < 1:\n",
    "            expansion_size = 1\n",
    "\n",
    "        self.conv1 = nn.Conv2d(self.in_channels, 64, kernel_size=7, stride=2, padding=3)\n",
    "\n",
    "        model = []\n",
    "        for idx, num_blocks in enumerate(list_num_residual_blocks):\n",
    "            if idx == 0:\n",
    "                model.append(make_block(self.block, 64, 64*expansion_size, num_blocks, stride=2))\n",
    "            else:\n",
    "                model.append(make_block(self.block, 64*expansion_size*2**(idx-1), 64*expansion_size*2**idx, num_blocks, stride=2))\n",
    "        self.model = nn.Sequential(*model)\n",
    "\n",
    "        self.averagepool = nn.AvgPool2d(2)\n",
    "        self.fc = nn.Linear((in_w//2**6)*(in_h//2**6)*512*expansion_size, num_classes)\n",
    "    \n",
    "    def forward(self, X):\n",
    "        X = self.conv1(X)\n",
    "        X = self.model(X)\n",
    "        X = self.averagepool(X)\n",
    "        X = torch.flatten(X, start_dim=1)\n",
    "        X = self.fc(X)\n",
    "        return X"
   ]
  },
  {
   "cell_type": "code",
   "execution_count": 106,
   "metadata": {},
   "outputs": [],
   "source": [
    "def ResNet18(in_channels, in_w, in_h, num_classes):\n",
    "    return ResNet(Residual_Basic_Block, in_channels, in_w, in_h, num_classes, [2, 2, 2, 2], expansion_size=1)\n",
    "\n",
    "def ResNet34(in_channels, in_w, in_h, num_classes):\n",
    "    return ResNet(Residual_Basic_Block, in_channels, in_w, in_h, num_classes, [3, 4, 6, 3], expansion_size=1)\n",
    "\n",
    "def ResNet50(in_channels, in_w, in_h, num_classes):\n",
    "    return ResNet(Residual_Bottle_Neck_Block, in_channels, in_w, in_h, num_classes, [3, 4, 6, 3], expansion_size=4)\n",
    "\n",
    "def ResNet101(in_channels, in_w, in_h, num_classes):\n",
    "    return ResNet(Residual_Bottle_Neck_Block, in_channels, in_w, in_h, num_classes, [3, 4, 23, 3], expansion_size=4)\n",
    "\n",
    "def ResNet152(in_channels, in_w, in_h, num_classes):\n",
    "    return ResNet(Residual_Bottle_Neck_Block, in_channels, in_w, in_h, num_classes, [3, 8, 36, 3], expansion_size=4)"
   ]
  },
  {
   "cell_type": "code",
   "execution_count": 107,
   "metadata": {},
   "outputs": [],
   "source": [
    "def test(resnet):\n",
    "    a = torch.randn(2, 3, 224, 224)\n",
    "    model = resnet(3, 224, 224, 100)\n",
    "    print('Pass' if model(a).shape == torch.Size([2, 100]) else 'Fail')"
   ]
  },
  {
   "cell_type": "code",
   "execution_count": 108,
   "metadata": {},
   "outputs": [
    {
     "name": "stdout",
     "output_type": "stream",
     "text": [
      "Pass\n",
      "Pass\n",
      "Pass\n",
      "Pass\n",
      "Pass\n"
     ]
    }
   ],
   "source": [
    "test(ResNet18)\n",
    "test(ResNet34)\n",
    "test(ResNet50)\n",
    "test(ResNet101)\n",
    "test(ResNet152)"
   ]
  },
  {
   "cell_type": "code",
   "execution_count": null,
   "metadata": {},
   "outputs": [],
   "source": []
  }
 ],
 "metadata": {
  "kernelspec": {
   "display_name": "img-pro",
   "language": "python",
   "name": "python3"
  },
  "language_info": {
   "codemirror_mode": {
    "name": "ipython",
    "version": 3
   },
   "file_extension": ".py",
   "mimetype": "text/x-python",
   "name": "python",
   "nbconvert_exporter": "python",
   "pygments_lexer": "ipython3",
   "version": "3.11.9"
  }
 },
 "nbformat": 4,
 "nbformat_minor": 2
}
